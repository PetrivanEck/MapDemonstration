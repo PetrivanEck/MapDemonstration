{
 "cells": [
  {
   "cell_type": "markdown",
   "metadata": {},
   "source": [
    "## Libraries "
   ]
  },
  {
   "cell_type": "code",
   "execution_count": 1,
   "metadata": {},
   "outputs": [
    {
     "name": "stderr",
     "output_type": "stream",
     "text": [
      "/Users/kalabachibale/opt/anaconda3/lib/python3.8/site-packages/geopandas/_compat.py:106: UserWarning: The Shapely GEOS version (3.8.0-CAPI-1.13.1 ) is incompatible with the GEOS version PyGEOS was compiled with (3.9.1-CAPI-1.14.2). Conversions between both will be slow.\n",
      "  warnings.warn(\n"
     ]
    }
   ],
   "source": [
    "import pandas as pd \n",
    "import folium \n",
    "import geopandas as gpd \n",
    "import matplotlib.pyplot as plt \n",
    "import osmnx as ox\n",
    "import networkx as nx\n",
    "import warnings \n",
    "import openrouteservice\n",
    "from openrouteservice import convert\n",
    "from folium import plugins\n",
    "warnings.filterwarnings('ignore')"
   ]
  },
  {
   "cell_type": "markdown",
   "metadata": {},
   "source": [
    "## Pick n Pay "
   ]
  },
  {
   "cell_type": "code",
   "execution_count": 2,
   "metadata": {},
   "outputs": [],
   "source": [
    "DC = pd.read_excel('picknpay.xlsx',sheet_name=2)"
   ]
  },
  {
   "cell_type": "code",
   "execution_count": 3,
   "metadata": {},
   "outputs": [
    {
     "data": {
      "text/html": [
       "<div>\n",
       "<style scoped>\n",
       "    .dataframe tbody tr th:only-of-type {\n",
       "        vertical-align: middle;\n",
       "    }\n",
       "\n",
       "    .dataframe tbody tr th {\n",
       "        vertical-align: top;\n",
       "    }\n",
       "\n",
       "    .dataframe thead th {\n",
       "        text-align: right;\n",
       "    }\n",
       "</style>\n",
       "<table border=\"1\" class=\"dataframe\">\n",
       "  <thead>\n",
       "    <tr style=\"text-align: right;\">\n",
       "      <th></th>\n",
       "      <th>Distribution Centre</th>\n",
       "      <th>Co-Ordinates</th>\n",
       "    </tr>\n",
       "  </thead>\n",
       "  <tbody>\n",
       "    <tr>\n",
       "      <th>0</th>\n",
       "      <td>WC</td>\n",
       "      <td>34.°00’113\"S 18.°32’328\"E</td>\n",
       "    </tr>\n",
       "    <tr>\n",
       "      <th>1</th>\n",
       "      <td>GAU</td>\n",
       "      <td>26.°06’251\"S 28.°08’065\"E</td>\n",
       "    </tr>\n",
       "    <tr>\n",
       "      <th>2</th>\n",
       "      <td>KZN</td>\n",
       "      <td>29.°48’477\"S 30.°49’349\"E</td>\n",
       "    </tr>\n",
       "    <tr>\n",
       "      <th>3</th>\n",
       "      <td>EC</td>\n",
       "      <td>33.°55’055\"S 25.°36’342\"E</td>\n",
       "    </tr>\n",
       "  </tbody>\n",
       "</table>\n",
       "</div>"
      ],
      "text/plain": [
       "  Distribution Centre               Co-Ordinates\n",
       "0                  WC  34.°00’113\"S 18.°32’328\"E\n",
       "1                 GAU  26.°06’251\"S 28.°08’065\"E\n",
       "2                 KZN  29.°48’477\"S 30.°49’349\"E\n",
       "3                  EC  33.°55’055\"S 25.°36’342\"E"
      ]
     },
     "execution_count": 3,
     "metadata": {},
     "output_type": "execute_result"
    }
   ],
   "source": [
    "DC"
   ]
  },
  {
   "cell_type": "code",
   "execution_count": 4,
   "metadata": {},
   "outputs": [],
   "source": [
    "DC[['Latitude','Longitude']] = DC['Co-Ordinates'].str.split('S', expand=True)"
   ]
  },
  {
   "cell_type": "code",
   "execution_count": 5,
   "metadata": {},
   "outputs": [
    {
     "data": {
      "text/html": [
       "<div>\n",
       "<style scoped>\n",
       "    .dataframe tbody tr th:only-of-type {\n",
       "        vertical-align: middle;\n",
       "    }\n",
       "\n",
       "    .dataframe tbody tr th {\n",
       "        vertical-align: top;\n",
       "    }\n",
       "\n",
       "    .dataframe thead th {\n",
       "        text-align: right;\n",
       "    }\n",
       "</style>\n",
       "<table border=\"1\" class=\"dataframe\">\n",
       "  <thead>\n",
       "    <tr style=\"text-align: right;\">\n",
       "      <th></th>\n",
       "      <th>Distribution Centre</th>\n",
       "      <th>Co-Ordinates</th>\n",
       "      <th>Latitude</th>\n",
       "      <th>Longitude</th>\n",
       "    </tr>\n",
       "  </thead>\n",
       "  <tbody>\n",
       "    <tr>\n",
       "      <th>0</th>\n",
       "      <td>WC</td>\n",
       "      <td>34.°00’113\"S 18.°32’328\"E</td>\n",
       "      <td>34.°00’113\"</td>\n",
       "      <td>18.°32’328\"E</td>\n",
       "    </tr>\n",
       "    <tr>\n",
       "      <th>1</th>\n",
       "      <td>GAU</td>\n",
       "      <td>26.°06’251\"S 28.°08’065\"E</td>\n",
       "      <td>26.°06’251\"</td>\n",
       "      <td>28.°08’065\"E</td>\n",
       "    </tr>\n",
       "    <tr>\n",
       "      <th>2</th>\n",
       "      <td>KZN</td>\n",
       "      <td>29.°48’477\"S 30.°49’349\"E</td>\n",
       "      <td>29.°48’477\"</td>\n",
       "      <td>30.°49’349\"E</td>\n",
       "    </tr>\n",
       "    <tr>\n",
       "      <th>3</th>\n",
       "      <td>EC</td>\n",
       "      <td>33.°55’055\"S 25.°36’342\"E</td>\n",
       "      <td>33.°55’055\"</td>\n",
       "      <td>25.°36’342\"E</td>\n",
       "    </tr>\n",
       "  </tbody>\n",
       "</table>\n",
       "</div>"
      ],
      "text/plain": [
       "  Distribution Centre               Co-Ordinates     Latitude      Longitude\n",
       "0                  WC  34.°00’113\"S 18.°32’328\"E  34.°00’113\"   18.°32’328\"E\n",
       "1                 GAU  26.°06’251\"S 28.°08’065\"E  26.°06’251\"   28.°08’065\"E\n",
       "2                 KZN  29.°48’477\"S 30.°49’349\"E  29.°48’477\"   30.°49’349\"E\n",
       "3                  EC  33.°55’055\"S 25.°36’342\"E  33.°55’055\"   25.°36’342\"E"
      ]
     },
     "execution_count": 5,
     "metadata": {},
     "output_type": "execute_result"
    }
   ],
   "source": [
    "DC"
   ]
  },
  {
   "cell_type": "code",
   "execution_count": 6,
   "metadata": {},
   "outputs": [],
   "source": [
    "DC['Latitude'] = DC['Latitude'].str.replace(r'°', '')\n",
    "DC['Latitude'] = DC['Latitude'].str.replace(r'\"', '')\n",
    "DC['Longitude'] = DC['Longitude'].str.replace(r'°', '')\n",
    "DC['Longitude'] = DC['Longitude'].str.replace(r'\"', '')\n",
    "DC['Longitude'] = DC['Longitude'].str.replace(r'E', '')\n",
    "DC['Latitude'] = DC['Latitude'].str.replace(r'’', '')\n",
    "DC['Longitude'] = DC['Longitude'].str.replace(r'’', '')\n",
    "DC['Latitude'] = ('-' + DC['Latitude'])"
   ]
  },
  {
   "cell_type": "code",
   "execution_count": 7,
   "metadata": {},
   "outputs": [],
   "source": [
    "DC_gdf = gpd.GeoDataFrame(\n",
    "    DC, geometry=gpd.points_from_xy(DC.Latitude,DC.Longitude))"
   ]
  },
  {
   "cell_type": "code",
   "execution_count": 8,
   "metadata": {},
   "outputs": [],
   "source": [
    "DC_gdf['Longitude'] = DC_gdf['Longitude'].astype(float)"
   ]
  },
  {
   "cell_type": "code",
   "execution_count": 9,
   "metadata": {},
   "outputs": [
    {
     "data": {
      "text/plain": [
       "array(['-34.00113', '-26.06251', '-29.48477', '-33.55055'], dtype=object)"
      ]
     },
     "execution_count": 9,
     "metadata": {},
     "output_type": "execute_result"
    }
   ],
   "source": [
    "DC_gdf.Latitude.values"
   ]
  },
  {
   "cell_type": "code",
   "execution_count": 10,
   "metadata": {},
   "outputs": [],
   "source": [
    "DC_gdf['Latitude'] = DC_gdf['Latitude'].astype(float)"
   ]
  },
  {
   "cell_type": "code",
   "execution_count": 11,
   "metadata": {},
   "outputs": [
    {
     "data": {
      "text/html": [
       "<div>\n",
       "<style scoped>\n",
       "    .dataframe tbody tr th:only-of-type {\n",
       "        vertical-align: middle;\n",
       "    }\n",
       "\n",
       "    .dataframe tbody tr th {\n",
       "        vertical-align: top;\n",
       "    }\n",
       "\n",
       "    .dataframe thead th {\n",
       "        text-align: right;\n",
       "    }\n",
       "</style>\n",
       "<table border=\"1\" class=\"dataframe\">\n",
       "  <thead>\n",
       "    <tr style=\"text-align: right;\">\n",
       "      <th></th>\n",
       "      <th>Distribution Centre</th>\n",
       "      <th>Co-Ordinates</th>\n",
       "      <th>Latitude</th>\n",
       "      <th>Longitude</th>\n",
       "      <th>geometry</th>\n",
       "    </tr>\n",
       "  </thead>\n",
       "  <tbody>\n",
       "    <tr>\n",
       "      <th>0</th>\n",
       "      <td>WC</td>\n",
       "      <td>34.°00’113\"S 18.°32’328\"E</td>\n",
       "      <td>-34.00113</td>\n",
       "      <td>18.32328</td>\n",
       "      <td>POINT (-34.00113 18.32328)</td>\n",
       "    </tr>\n",
       "    <tr>\n",
       "      <th>1</th>\n",
       "      <td>GAU</td>\n",
       "      <td>26.°06’251\"S 28.°08’065\"E</td>\n",
       "      <td>-26.06251</td>\n",
       "      <td>28.08065</td>\n",
       "      <td>POINT (-26.06251 28.08065)</td>\n",
       "    </tr>\n",
       "    <tr>\n",
       "      <th>2</th>\n",
       "      <td>KZN</td>\n",
       "      <td>29.°48’477\"S 30.°49’349\"E</td>\n",
       "      <td>-29.48477</td>\n",
       "      <td>30.49349</td>\n",
       "      <td>POINT (-29.48477 30.49349)</td>\n",
       "    </tr>\n",
       "    <tr>\n",
       "      <th>3</th>\n",
       "      <td>EC</td>\n",
       "      <td>33.°55’055\"S 25.°36’342\"E</td>\n",
       "      <td>-33.55055</td>\n",
       "      <td>25.36342</td>\n",
       "      <td>POINT (-33.55055 25.36342)</td>\n",
       "    </tr>\n",
       "  </tbody>\n",
       "</table>\n",
       "</div>"
      ],
      "text/plain": [
       "  Distribution Centre               Co-Ordinates  Latitude  Longitude  \\\n",
       "0                  WC  34.°00’113\"S 18.°32’328\"E -34.00113   18.32328   \n",
       "1                 GAU  26.°06’251\"S 28.°08’065\"E -26.06251   28.08065   \n",
       "2                 KZN  29.°48’477\"S 30.°49’349\"E -29.48477   30.49349   \n",
       "3                  EC  33.°55’055\"S 25.°36’342\"E -33.55055   25.36342   \n",
       "\n",
       "                     geometry  \n",
       "0  POINT (-34.00113 18.32328)  \n",
       "1  POINT (-26.06251 28.08065)  \n",
       "2  POINT (-29.48477 30.49349)  \n",
       "3  POINT (-33.55055 25.36342)  "
      ]
     },
     "execution_count": 11,
     "metadata": {},
     "output_type": "execute_result"
    }
   ],
   "source": [
    "DC_gdf"
   ]
  },
  {
   "cell_type": "code",
   "execution_count": 12,
   "metadata": {},
   "outputs": [],
   "source": [
    "DC_gdf['combined'] = list(zip(DC_gdf.Latitude,DC_gdf.Longitude))"
   ]
  },
  {
   "cell_type": "code",
   "execution_count": 13,
   "metadata": {},
   "outputs": [
    {
     "data": {
      "text/html": [
       "<div>\n",
       "<style scoped>\n",
       "    .dataframe tbody tr th:only-of-type {\n",
       "        vertical-align: middle;\n",
       "    }\n",
       "\n",
       "    .dataframe tbody tr th {\n",
       "        vertical-align: top;\n",
       "    }\n",
       "\n",
       "    .dataframe thead th {\n",
       "        text-align: right;\n",
       "    }\n",
       "</style>\n",
       "<table border=\"1\" class=\"dataframe\">\n",
       "  <thead>\n",
       "    <tr style=\"text-align: right;\">\n",
       "      <th></th>\n",
       "      <th>Distribution Centre</th>\n",
       "      <th>Co-Ordinates</th>\n",
       "      <th>Latitude</th>\n",
       "      <th>Longitude</th>\n",
       "      <th>geometry</th>\n",
       "      <th>combined</th>\n",
       "    </tr>\n",
       "  </thead>\n",
       "  <tbody>\n",
       "    <tr>\n",
       "      <th>0</th>\n",
       "      <td>WC</td>\n",
       "      <td>34.°00’113\"S 18.°32’328\"E</td>\n",
       "      <td>-34.00113</td>\n",
       "      <td>18.32328</td>\n",
       "      <td>POINT (-34.00113 18.32328)</td>\n",
       "      <td>(-34.00113, 18.32328)</td>\n",
       "    </tr>\n",
       "    <tr>\n",
       "      <th>1</th>\n",
       "      <td>GAU</td>\n",
       "      <td>26.°06’251\"S 28.°08’065\"E</td>\n",
       "      <td>-26.06251</td>\n",
       "      <td>28.08065</td>\n",
       "      <td>POINT (-26.06251 28.08065)</td>\n",
       "      <td>(-26.06251, 28.08065)</td>\n",
       "    </tr>\n",
       "    <tr>\n",
       "      <th>2</th>\n",
       "      <td>KZN</td>\n",
       "      <td>29.°48’477\"S 30.°49’349\"E</td>\n",
       "      <td>-29.48477</td>\n",
       "      <td>30.49349</td>\n",
       "      <td>POINT (-29.48477 30.49349)</td>\n",
       "      <td>(-29.48477, 30.49349)</td>\n",
       "    </tr>\n",
       "    <tr>\n",
       "      <th>3</th>\n",
       "      <td>EC</td>\n",
       "      <td>33.°55’055\"S 25.°36’342\"E</td>\n",
       "      <td>-33.55055</td>\n",
       "      <td>25.36342</td>\n",
       "      <td>POINT (-33.55055 25.36342)</td>\n",
       "      <td>(-33.55055, 25.36342)</td>\n",
       "    </tr>\n",
       "  </tbody>\n",
       "</table>\n",
       "</div>"
      ],
      "text/plain": [
       "  Distribution Centre               Co-Ordinates  Latitude  Longitude  \\\n",
       "0                  WC  34.°00’113\"S 18.°32’328\"E -34.00113   18.32328   \n",
       "1                 GAU  26.°06’251\"S 28.°08’065\"E -26.06251   28.08065   \n",
       "2                 KZN  29.°48’477\"S 30.°49’349\"E -29.48477   30.49349   \n",
       "3                  EC  33.°55’055\"S 25.°36’342\"E -33.55055   25.36342   \n",
       "\n",
       "                     geometry               combined  \n",
       "0  POINT (-34.00113 18.32328)  (-34.00113, 18.32328)  \n",
       "1  POINT (-26.06251 28.08065)  (-26.06251, 28.08065)  \n",
       "2  POINT (-29.48477 30.49349)  (-29.48477, 30.49349)  \n",
       "3  POINT (-33.55055 25.36342)  (-33.55055, 25.36342)  "
      ]
     },
     "execution_count": 13,
     "metadata": {},
     "output_type": "execute_result"
    }
   ],
   "source": [
    "DC_gdf"
   ]
  },
  {
   "cell_type": "code",
   "execution_count": null,
   "metadata": {},
   "outputs": [],
   "source": []
  },
  {
   "cell_type": "code",
   "execution_count": 14,
   "metadata": {},
   "outputs": [],
   "source": [
    "EC = DC_gdf[DC_gdf['Distribution Centre'] == 'EC']"
   ]
  },
  {
   "cell_type": "code",
   "execution_count": null,
   "metadata": {},
   "outputs": [],
   "source": []
  },
  {
   "cell_type": "code",
   "execution_count": null,
   "metadata": {},
   "outputs": [],
   "source": []
  },
  {
   "cell_type": "code",
   "execution_count": 15,
   "metadata": {},
   "outputs": [],
   "source": [
    "WC = DC_gdf[DC_gdf['Distribution Centre'] == 'WC']"
   ]
  },
  {
   "cell_type": "code",
   "execution_count": 16,
   "metadata": {},
   "outputs": [],
   "source": [
    "client = openrouteservice.Client(key='5b3ce3597851110001cf6248d6011cefacd04916844d685098c12e90')"
   ]
  },
  {
   "cell_type": "code",
   "execution_count": null,
   "metadata": {},
   "outputs": [],
   "source": [
    "client.distance_matrix(locatiions=)"
   ]
  },
  {
   "cell_type": "code",
   "execution_count": 19,
   "metadata": {},
   "outputs": [],
   "source": [
    "from openrouteservice import distance_matrix"
   ]
  },
  {
   "cell_type": "code",
   "execution_count": 25,
   "metadata": {},
   "outputs": [
    {
     "data": {
      "text/plain": [
       "{'durations': [[0.0, 5796.77, 88326.84, 395423.31],\n",
       "  [5730.19, 0.0, 86764.12, 393860.59],\n",
       "  [88078.44, 86357.35, 0.0, 310669.19],\n",
       "  [396500.75, 394779.66, 311558.28, 0.0]],\n",
       " 'destinations': [{'location': [9.700817, 48.476406],\n",
       "   'snapped_distance': 118.92},\n",
       "  {'location': [9.207772, 49.153882], 'snapped_distance': 10.57},\n",
       "  {'location': [37.572963, 55.801279], 'snapped_distance': 17.45},\n",
       "  {'location': [115.665017, 38.100717], 'snapped_distance': 648.79}],\n",
       " 'sources': [{'location': [9.700817, 48.476406], 'snapped_distance': 118.92},\n",
       "  {'location': [9.207772, 49.153882], 'snapped_distance': 10.57},\n",
       "  {'location': [37.572963, 55.801279], 'snapped_distance': 17.45},\n",
       "  {'location': [115.665017, 38.100717], 'snapped_distance': 648.79}],\n",
       " 'metadata': {'attribution': 'openrouteservice.org | OpenStreetMap contributors',\n",
       "  'service': 'matrix',\n",
       "  'timestamp': 1629914667161,\n",
       "  'query': {'locations': [[9.70093, 48.477473],\n",
       "    [9.207916, 49.153868],\n",
       "    [37.573242, 55.801281],\n",
       "    [115.663757, 38.106467]],\n",
       "   'profile': 'driving-car',\n",
       "   'responseType': 'json'},\n",
       "  'engine': {'version': '6.6.1',\n",
       "   'build_date': '2021-07-05T10:57:48Z',\n",
       "   'graph_date': '2021-08-17T00:26:42Z'}}}"
      ]
     },
     "execution_count": 25,
     "metadata": {},
     "output_type": "execute_result"
    }
   ],
   "source": [
    "client.distance_matrix([[9.70093,48.477473],[9.207916,49.153868],[37.573242,55.801281],[115.663757,38.106467]])"
   ]
  },
  {
   "cell_type": "code",
   "execution_count": 40,
   "metadata": {},
   "outputs": [],
   "source": [
    "import json"
   ]
  },
  {
   "cell_type": "code",
   "execution_count": 42,
   "metadata": {},
   "outputs": [],
   "source": [
    "json_object = json.dumps(distance) "
   ]
  },
  {
   "cell_type": "code",
   "execution_count": 43,
   "metadata": {},
   "outputs": [
    {
     "data": {
      "text/plain": [
       "'{\"durations\": [[null, null], [null, 0.0]], \"destinations\": [null, {\"location\": [18.335591, -34.011556], \"snapped_distance\": 1622.25}], \"sources\": [null, {\"location\": [18.335591, -34.011556], \"snapped_distance\": 1622.25}], \"metadata\": {\"attribution\": \"openrouteservice.org | OpenStreetMap contributors\", \"service\": \"matrix\", \"timestamp\": 1629915055183, \"query\": {\"locations\": [[25.36342, -33.55055], [18.32328, -34.00113]], \"profile\": \"driving-car\", \"responseType\": \"json\"}, \"engine\": {\"version\": \"6.6.1\", \"build_date\": \"2021-07-05T10:57:48Z\", \"graph_date\": \"2021-08-17T00:26:42Z\"}}}'"
      ]
     },
     "execution_count": 43,
     "metadata": {},
     "output_type": "execute_result"
    }
   ],
   "source": [
    "json_object"
   ]
  },
  {
   "cell_type": "code",
   "execution_count": 41,
   "metadata": {},
   "outputs": [
    {
     "data": {
      "text/plain": [
       "{'durations': [[None, None], [None, 0.0]],\n",
       " 'destinations': [None,\n",
       "  {'location': [18.335591, -34.011556], 'snapped_distance': 1622.25}],\n",
       " 'sources': [None,\n",
       "  {'location': [18.335591, -34.011556], 'snapped_distance': 1622.25}],\n",
       " 'metadata': {'attribution': 'openrouteservice.org | OpenStreetMap contributors',\n",
       "  'service': 'matrix',\n",
       "  'timestamp': 1629915055183,\n",
       "  'query': {'locations': [[25.36342, -33.55055], [18.32328, -34.00113]],\n",
       "   'profile': 'driving-car',\n",
       "   'responseType': 'json'},\n",
       "  'engine': {'version': '6.6.1',\n",
       "   'build_date': '2021-07-05T10:57:48Z',\n",
       "   'graph_date': '2021-08-17T00:26:42Z'}}}"
      ]
     },
     "execution_count": 41,
     "metadata": {},
     "output_type": "execute_result"
    }
   ],
   "source": [
    "distance"
   ]
  },
  {
   "cell_type": "markdown",
   "metadata": {},
   "source": [
    "## Open Route Service "
   ]
  },
  {
   "cell_type": "code",
   "execution_count": 91,
   "metadata": {},
   "outputs": [],
   "source": [
    "import openrouteservice\n",
    "from openrouteservice import convert"
   ]
  },
  {
   "cell_type": "code",
   "execution_count": 92,
   "metadata": {},
   "outputs": [],
   "source": [
    "client = openrouteservice.Client(key='5b3ce3597851110001cf6248d6011cefacd04916844d685098c12e90')"
   ]
  },
  {
   "cell_type": "code",
   "execution_count": 95,
   "metadata": {},
   "outputs": [],
   "source": [
    "for lon, lat in zip(EC.Longitude.values.tolist(),\n",
    "                   EC.Latitude.values.tolist()):\n",
    "    EC_coordinate = [[lon,lat]]"
   ]
  },
  {
   "cell_type": "code",
   "execution_count": 96,
   "metadata": {},
   "outputs": [
    {
     "data": {
      "text/plain": [
       "[[25.36342, -33.55055]]"
      ]
     },
     "execution_count": 96,
     "metadata": {},
     "output_type": "execute_result"
    }
   ],
   "source": [
    "EC_coordinate"
   ]
  },
  {
   "cell_type": "code",
   "execution_count": 98,
   "metadata": {},
   "outputs": [
    {
     "data": {
      "text/html": [
       "<div style=\"width:100%;\"><div style=\"position:relative;width:100%;height:0;padding-bottom:60%;\"><span style=\"color:#565656\">Make this Notebook Trusted to load map: File -> Trust Notebook</span><iframe src=\"about:blank\" style=\"position:absolute;width:100%;height:100%;left:0;top:0;border:none !important;\" data-html=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 onload=\"this.contentDocument.open();this.contentDocument.write(atob(this.getAttribute('data-html')));this.contentDocument.close();\" allowfullscreen webkitallowfullscreen mozallowfullscreen></iframe></div></div>"
      ],
      "text/plain": [
       "<folium.folium.Map at 0x7ffdf7930a00>"
      ]
     },
     "execution_count": 98,
     "metadata": {},
     "output_type": "execute_result"
    }
   ],
   "source": [
    "m = folium.Map(location=[52.521861, 13.40744], tiles='cartodbpositron', zoom_start=13)\n",
    "\n",
    "# Some coordinate in Berlin\n",
    "coordinate = [[13.384116, 52.533558]]\n",
    "\n",
    "iso = client.isochrones(\n",
    "    locations=coordinate,\n",
    "    profile='foot-walking',\n",
    "    range=[600, 1200],\n",
    "    validate=False,\n",
    "    attributes=['total_pop']\n",
    ")\n",
    "\n",
    "# Also create a Popup with Population count within isochrones\n",
    "for isochrone in iso['features']:\n",
    "    folium.Polygon(locations=[list(reversed(coord)) for coord in isochrone['geometry']['coordinates'][0]],\n",
    "                  fill='00ff00',\n",
    "                  popup=folium.Popup(\"Population: {} people\".format(isochrone['properties']['total_pop'])),\n",
    "                  opacity=0.5).add_to(m)\n",
    "    \n",
    "m"
   ]
  },
  {
   "cell_type": "code",
   "execution_count": 97,
   "metadata": {
    "scrolled": true
   },
   "outputs": [
    {
     "data": {
      "text/html": [
       "<div style=\"width:100%;\"><div style=\"position:relative;width:100%;height:0;padding-bottom:60%;\"><span style=\"color:#565656\">Make this Notebook Trusted to load map: File -> Trust Notebook</span><iframe src=\"about:blank\" style=\"position:absolute;width:100%;height:100%;left:0;top:0;border:none !important;\" data-html=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 onload=\"this.contentDocument.open();this.contentDocument.write(atob(this.getAttribute('data-html')));this.contentDocument.close();\" allowfullscreen webkitallowfullscreen mozallowfullscreen></iframe></div></div>"
      ],
      "text/plain": [
       "<folium.folium.Map at 0x7ffdf74ac4f0>"
      ]
     },
     "execution_count": 97,
     "metadata": {},
     "output_type": "execute_result"
    }
   ],
   "source": [
    "KZN = folium.Map(location=[-28.503833, \n",
    "                            30.8875009],\n",
    "                            zoom_start=7,\n",
    "                            control_scale=True)\n",
    "\n",
    "\n",
    "for lon, lat in zip(EC.Longitude.values.tolist(),\n",
    "                    EC.Latitude.values.tolist()):\n",
    "    EC_coordinate = [[lon,lat]]\n",
    "    \n",
    "    iso = client.isochrones(\n",
    "    locations=EC_coordinate,\n",
    "    profile='foot-walking',\n",
    "    range=[600, 1200],\n",
    "    validate=False,\n",
    "    attributes=['total_pop']\n",
    ")\n",
    "# Also create a Popup with Population count within isochrones\n",
    "for isochrone in iso['features']:\n",
    "    folium.Polygon(locations=[list(reversed(coord)) for coord in isochrone['geometry']['coordinates'][0]],\n",
    "                  fill='00ff00',\n",
    "                  popup=folium.Popup(\"Population: {} people\".format(isochrone['properties']['total_pop'])),\n",
    "                  opacity=0.5).add_to(KZN)\n",
    "    \n",
    "KZN\n"
   ]
  },
  {
   "cell_type": "code",
   "execution_count": null,
   "metadata": {},
   "outputs": [],
   "source": [
    "m = folium.Map(location=[52.521861, 13.40744], tiles='cartodbpositron', zoom_start=13)\n",
    "\n",
    "# Some coordinates in Berlin\n",
    "coordinates = [[13.42731, 52.51088], [13.384116, 52.533558]]\n",
    "\n",
    "route = client.directions(\n",
    "    coordinates=coordinates,\n",
    "    profile='foot-walking',\n",
    "    format='geojson',\n",
    "    options={\"avoid_features\": [\"steps\"]},\n",
    "    validate=False,\n",
    ")\n",
    "folium.PolyLine(locations=[list(reversed(coord)) \n",
    "                           for coord in \n",
    "                           route['features'][0]['geometry']['coordinates']]).add_to(m)\n",
    "    \n",
    "m"
   ]
  },
  {
   "cell_type": "code",
   "execution_count": null,
   "metadata": {},
   "outputs": [],
   "source": []
  },
  {
   "cell_type": "code",
   "execution_count": 90,
   "metadata": {},
   "outputs": [
    {
     "data": {
      "text/html": [
       "<div style=\"width:100%;\"><div style=\"position:relative;width:100%;height:0;padding-bottom:60%;\"><span style=\"color:#565656\">Make this Notebook Trusted to load map: File -> Trust Notebook</span><iframe src=\"about:blank\" style=\"position:absolute;width:100%;height:100%;left:0;top:0;border:none !important;\" data-html=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 onload=\"this.contentDocument.open();this.contentDocument.write(atob(this.getAttribute('data-html')));this.contentDocument.close();\" allowfullscreen webkitallowfullscreen mozallowfullscreen></iframe></div></div>"
      ],
      "text/plain": [
       "<folium.folium.Map at 0x7ffdf73d2430>"
      ]
     },
     "execution_count": 90,
     "metadata": {},
     "output_type": "execute_result"
    }
   ],
   "source": [
    "KZN = folium.Map(location=[-28.503833, \n",
    "                            30.8875009],\n",
    "                            zoom_start=7,\n",
    "                            control_scale=True)\n",
    "\n",
    "# Some coordinate in Berlin\n",
    "coordinate = [[13.384116, 52.533558]]\n",
    "\n",
    "iso = client.isochrones(\n",
    "    locations=coordinate,\n",
    "    profile='foot-walking',\n",
    "    range=[600, 1200],\n",
    "    validate=False,\n",
    "    attributes=['total_pop']\n",
    ")\n",
    "\n",
    "# Also create a Popup with Population count within isochrones\n",
    "for isochrone in iso['features']:\n",
    "    folium.Polygon(locations=[list(reversed(coord)) for coord in isochrone['geometry']['coordinates'][0]],\n",
    "                  fill='00ff00',\n",
    "                  popup=folium.Popup(\"Population: {} people\".format(isochrone['properties']['total_pop'])),\n",
    "                  opacity=0.5).add_to(m)\n",
    "    \n",
    "m\n",
    "\n",
    "\n",
    "KZN"
   ]
  },
  {
   "cell_type": "code",
   "execution_count": null,
   "metadata": {},
   "outputs": [],
   "source": []
  },
  {
   "cell_type": "code",
   "execution_count": null,
   "metadata": {},
   "outputs": [],
   "source": []
  },
  {
   "cell_type": "code",
   "execution_count": null,
   "metadata": {},
   "outputs": [],
   "source": []
  },
  {
   "cell_type": "code",
   "execution_count": null,
   "metadata": {},
   "outputs": [],
   "source": []
  },
  {
   "cell_type": "code",
   "execution_count": null,
   "metadata": {},
   "outputs": [],
   "source": []
  },
  {
   "cell_type": "markdown",
   "metadata": {},
   "source": [
    "## FOLIUM MAP "
   ]
  },
  {
   "cell_type": "code",
   "execution_count": null,
   "metadata": {},
   "outputs": [],
   "source": [
    "KZN = folium.Map(location=[-28.503833, \n",
    "                            30.8875009],\n",
    "                            zoom_start=7,\n",
    "                            control_scale=True)\n",
    "\n",
    "\n",
    "## Emerging Farmers: \n",
    "\n",
    "Emerging_marker_cluster = plugins.marker_cluster.MarkerCluster(name='HelloChoice Emerging Farmers', show=False).add_to(KZN)\n",
    "\n",
    "for lat, lon, Emerging_farmer, Area in zip(emerging_Farmers[\"Latitude\"].values.tolist(),\n",
    "                                      emerging_Farmers[\"Longitude\"].values.tolist(),\n",
    "                                      emerging_Farmers[\"Emerging_Farmers\"].values.tolist(),\n",
    "                                      emerging_Farmers[\"Seller_Area_Cluster\"].values.tolist()):\n",
    "                                      folium.Marker( location=[lat, lon],\n",
    "    popup= folium.Popup('Emerging Farmer: ' + Emerging_farmer + \"<br>\" + \" Seller Area Cluster: \" + str(Area) \n",
    "                        ,min_width=300, max_width=300, height=300),\n",
    "    icon=folium.Icon(color=\"green\", icon=\"users\",prefix=\"fa\"),\n",
    ").add_to(Emerging_marker_cluster) \n",
    "\n",
    "### Unrest Towns: \n",
    "    \n",
    "Unrest_marker_cluster = plugins.marker_cluster.MarkerCluster(name='Hotspot Towns', show=False).add_to(KZN)\n",
    "\n",
    "for lat, lon , Town in zip(unrest[\"Latitude\"].values.tolist(),\n",
    "                           unrest[\"Longitude\"].values.tolist(),\n",
    "                           unrest[\"Town\"].values.tolist()):\n",
    "                          folium.Marker( location=[lat, lon],\n",
    "    popup= folium.Popup('Hotspot Town: ' + Town \n",
    "                        ,min_width=300, max_width=300, height=300),\n",
    "    icon=folium.Icon(color=\"red\",icon=\"fire\",prefix=\"fa\"),\n",
    ").add_to(Unrest_marker_cluster) \n",
    "\n",
    "## layer Control: \n",
    "\n",
    "folium.LayerControl().add_to(KZN) \n",
    "\n",
    "\n",
    "\n",
    "KZN"
   ]
  },
  {
   "cell_type": "code",
   "execution_count": null,
   "metadata": {},
   "outputs": [],
   "source": [
    "# # # directions\n",
    "# json_test = client.distance_matrix(test,profile='driving-car',\n",
    "#                           format='geojson')\n",
    "# # map\n",
    "# KZN = folium.Map(location=[-28.503833, \n",
    "#                             30.8875009],\n",
    "#                             zoom_start=7,\n",
    "#                             control_scale=True)\n",
    "\n",
    "# # add geojson to map\n",
    "# folium.GeoJson(json_test, name='route').add_to(KZN)\n",
    "\n",
    "\n",
    "\n",
    "\n",
    "# # display map\n",
    "# KZN"
   ]
  }
 ],
 "metadata": {
  "kernelspec": {
   "display_name": "Python 3",
   "language": "python",
   "name": "python3"
  },
  "language_info": {
   "codemirror_mode": {
    "name": "ipython",
    "version": 3
   },
   "file_extension": ".py",
   "mimetype": "text/x-python",
   "name": "python",
   "nbconvert_exporter": "python",
   "pygments_lexer": "ipython3",
   "version": "3.8.3"
  }
 },
 "nbformat": 4,
 "nbformat_minor": 4
}
